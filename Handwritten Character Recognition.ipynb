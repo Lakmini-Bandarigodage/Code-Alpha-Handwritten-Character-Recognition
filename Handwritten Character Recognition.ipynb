{
 "cells": [
  {
   "cell_type": "markdown",
   "id": "c778b1c4",
   "metadata": {},
   "source": [
    "# Task 3: Handwritten Character Recognition"
   ]
  },
  {
   "cell_type": "markdown",
   "id": "1c7a0624",
   "metadata": {},
   "source": [
    "Create a handwritten character recognition system that can recognize various handwritten characters or\n",
    "alphabets. You can extend this to recognize entire words or sentences."
   ]
  },
  {
   "cell_type": "code",
   "execution_count": 1,
   "id": "fcc7773e",
   "metadata": {},
   "outputs": [],
   "source": [
    "import tensorflow\n",
    "from tensorflow import keras\n",
    "from tensorflow.keras import Sequential\n",
    "from tensorflow.keras.layers import Dense,Flatten"
   ]
  },
  {
   "cell_type": "markdown",
   "id": "a3ef1310",
   "metadata": {},
   "source": [
    "MNIST dataset consists of a collection of handwritten digits from 0 to 9."
   ]
  },
  {
   "cell_type": "code",
   "execution_count": 2,
   "id": "500caf70",
   "metadata": {},
   "outputs": [],
   "source": [
    "# Loading the MNIST dataset\n",
    "(X_train,y_train),(X_test,y_test) = keras.datasets.mnist.load_data()"
   ]
  },
  {
   "cell_type": "code",
   "execution_count": 4,
   "id": "9bde03bc",
   "metadata": {},
   "outputs": [
    {
     "data": {
      "text/plain": [
       "(60000, 28, 28)"
      ]
     },
     "execution_count": 4,
     "metadata": {},
     "output_type": "execute_result"
    }
   ],
   "source": [
    "X_train.shape"
   ]
  },
  {
   "cell_type": "code",
   "execution_count": 5,
   "id": "93be09a5",
   "metadata": {},
   "outputs": [
    {
     "data": {
      "text/plain": [
       "array([[[0, 0, 0, ..., 0, 0, 0],\n",
       "        [0, 0, 0, ..., 0, 0, 0],\n",
       "        [0, 0, 0, ..., 0, 0, 0],\n",
       "        ...,\n",
       "        [0, 0, 0, ..., 0, 0, 0],\n",
       "        [0, 0, 0, ..., 0, 0, 0],\n",
       "        [0, 0, 0, ..., 0, 0, 0]],\n",
       "\n",
       "       [[0, 0, 0, ..., 0, 0, 0],\n",
       "        [0, 0, 0, ..., 0, 0, 0],\n",
       "        [0, 0, 0, ..., 0, 0, 0],\n",
       "        ...,\n",
       "        [0, 0, 0, ..., 0, 0, 0],\n",
       "        [0, 0, 0, ..., 0, 0, 0],\n",
       "        [0, 0, 0, ..., 0, 0, 0]],\n",
       "\n",
       "       [[0, 0, 0, ..., 0, 0, 0],\n",
       "        [0, 0, 0, ..., 0, 0, 0],\n",
       "        [0, 0, 0, ..., 0, 0, 0],\n",
       "        ...,\n",
       "        [0, 0, 0, ..., 0, 0, 0],\n",
       "        [0, 0, 0, ..., 0, 0, 0],\n",
       "        [0, 0, 0, ..., 0, 0, 0]],\n",
       "\n",
       "       ...,\n",
       "\n",
       "       [[0, 0, 0, ..., 0, 0, 0],\n",
       "        [0, 0, 0, ..., 0, 0, 0],\n",
       "        [0, 0, 0, ..., 0, 0, 0],\n",
       "        ...,\n",
       "        [0, 0, 0, ..., 0, 0, 0],\n",
       "        [0, 0, 0, ..., 0, 0, 0],\n",
       "        [0, 0, 0, ..., 0, 0, 0]],\n",
       "\n",
       "       [[0, 0, 0, ..., 0, 0, 0],\n",
       "        [0, 0, 0, ..., 0, 0, 0],\n",
       "        [0, 0, 0, ..., 0, 0, 0],\n",
       "        ...,\n",
       "        [0, 0, 0, ..., 0, 0, 0],\n",
       "        [0, 0, 0, ..., 0, 0, 0],\n",
       "        [0, 0, 0, ..., 0, 0, 0]],\n",
       "\n",
       "       [[0, 0, 0, ..., 0, 0, 0],\n",
       "        [0, 0, 0, ..., 0, 0, 0],\n",
       "        [0, 0, 0, ..., 0, 0, 0],\n",
       "        ...,\n",
       "        [0, 0, 0, ..., 0, 0, 0],\n",
       "        [0, 0, 0, ..., 0, 0, 0],\n",
       "        [0, 0, 0, ..., 0, 0, 0]]], dtype=uint8)"
      ]
     },
     "execution_count": 5,
     "metadata": {},
     "output_type": "execute_result"
    }
   ],
   "source": [
    "X_test"
   ]
  },
  {
   "cell_type": "code",
   "execution_count": 6,
   "id": "56804c2c",
   "metadata": {},
   "outputs": [
    {
     "data": {
      "text/plain": [
       "<matplotlib.image.AxesImage at 0x2c4478d8640>"
      ]
     },
     "execution_count": 6,
     "metadata": {},
     "output_type": "execute_result"
    },
    {
     "data": {
      "image/png": "[encoded data removed]",
      "text/plain": [
       "<Figure size 640x480 with 1 Axes>"
      ]
     },
     "metadata": {},
     "output_type": "display_data"
    }
   ],
   "source": [
    "# visualising handwritten image in training set\n",
    "import matplotlib.pyplot as plt\n",
    "plt.imshow(X_train[4]) "
   ]
  },
  {
   "cell_type": "code",
   "execution_count": 7,
   "id": "3e24e846",
   "metadata": {},
   "outputs": [],
   "source": [
    "# Normalizing pixel values to range [0, 1]\n",
    "X_train = X_train / 255.0\n",
    "X_test = X_test / 255.0"
   ]
  },
  {
   "cell_type": "code",
   "execution_count": 8,
   "id": "918481ea",
   "metadata": {},
   "outputs": [
    {
     "data": {
      "text/plain": [
       "array([[0.        , 0.        , 0.        , 0.        , 0.        ,\n",
       "        0.        , 0.        , 0.        , 0.        , 0.        ,\n",
       "        0.        , 0.        , 0.        , 0.        , 0.        ,\n",
       "        0.        , 0.        , 0.        , 0.        , 0.        ,\n",
       "        0.        , 0.        , 0.        , 0.        , 0.        ,\n",
       "        0.        , 0.        , 0.        ],\n",
       "       [0.        , 0.        , 0.        , 0.        , 0.        ,\n",
       "        0.        , 0.        , 0.        , 0.        , 0.        ,\n",
       "        0.        , 0.        , 0.        , 0.        , 0.        ,\n",
       "        0.        , 0.        , 0.        , 0.        , 0.        ,\n",
       "        0.        , 0.        , 0.        , 0.        , 0.        ,\n",
       "        0.        , 0.        , 0.        ],\n",
       "       [0.        , 0.        , 0.        , 0.        , 0.        ,\n",
       "        0.        , 0.        , 0.        , 0.        , 0.        ,\n",
       "        0.        , 0.        , 0.        , 0.        , 0.        ,\n",
       "        0.        , 0.        , 0.        , 0.        , 0.        ,\n",
       "        0.        , 0.        , 0.        , 0.        , 0.        ,\n",
       "        0.        , 0.        , 0.        ],\n",
       "       [0.        , 0.        , 0.        , 0.        , 0.        ,\n",
       "        0.        , 0.        , 0.        , 0.        , 0.        ,\n",
       "        0.        , 0.        , 0.        , 0.        , 0.        ,\n",
       "        0.        , 0.        , 0.        , 0.        , 0.        ,\n",
       "        0.        , 0.        , 0.        , 0.        , 0.        ,\n",
       "        0.        , 0.        , 0.        ],\n",
       "       [0.        , 0.        , 0.        , 0.        , 0.        ,\n",
       "        0.        , 0.        , 0.        , 0.        , 0.        ,\n",
       "        0.        , 0.        , 0.        , 0.        , 0.        ,\n",
       "        0.        , 0.        , 0.        , 0.        , 0.        ,\n",
       "        0.        , 0.        , 0.        , 0.        , 0.        ,\n",
       "        0.        , 0.        , 0.        ],\n",
       "       [0.        , 0.        , 0.        , 0.        , 0.        ,\n",
       "        0.        , 0.        , 0.        , 0.        , 0.        ,\n",
       "        0.        , 0.        , 0.        , 0.        , 0.        ,\n",
       "        0.        , 0.        , 0.        , 0.        , 0.        ,\n",
       "        0.        , 0.        , 0.        , 0.        , 0.        ,\n",
       "        0.        , 0.        , 0.        ],\n",
       "       [0.        , 0.        , 0.        , 0.        , 0.        ,\n",
       "        0.        , 0.        , 0.        , 0.        , 0.        ,\n",
       "        0.        , 0.        , 0.        , 0.        , 0.        ,\n",
       "        0.        , 0.        , 0.        , 0.        , 0.        ,\n",
       "        0.        , 0.        , 0.        , 0.        , 0.        ,\n",
       "        0.        , 0.        , 0.        ],\n",
       "       [0.        , 0.        , 0.        , 0.        , 0.        ,\n",
       "        0.        , 0.        , 0.        , 0.        , 0.        ,\n",
       "        0.        , 0.        , 0.21568627, 0.58039216, 0.82352941,\n",
       "        0.99215686, 0.99215686, 0.44313725, 0.34117647, 0.58039216,\n",
       "        0.21568627, 0.        , 0.        , 0.        , 0.        ,\n",
       "        0.        , 0.        , 0.        ],\n",
       "       [0.        , 0.        , 0.        , 0.        , 0.        ,\n",
       "        0.        , 0.        , 0.        , 0.        , 0.        ,\n",
       "        0.        , 0.34117647, 0.90980392, 0.98823529, 0.99215686,\n",
       "        0.74117647, 0.82352941, 0.98823529, 0.98823529, 0.99215686,\n",
       "        0.65882353, 0.        , 0.        , 0.        , 0.        ,\n",
       "        0.        , 0.        , 0.        ],\n",
       "       [0.        , 0.        , 0.        , 0.        , 0.        ,\n",
       "        0.        , 0.        , 0.        , 0.        , 0.01568627,\n",
       "        0.22352941, 0.94901961, 0.98823529, 0.74509804, 0.25490196,\n",
       "        0.01960784, 0.04705882, 0.71372549, 0.98823529, 0.99215686,\n",
       "        0.45490196, 0.        , 0.        , 0.        , 0.        ,\n",
       "        0.        , 0.        , 0.        ],\n",
       "       [0.        , 0.        , 0.        , 0.        , 0.        ,\n",
       "        0.        , 0.        , 0.        , 0.        , 0.37647059,\n",
       "        0.98823529, 0.98823529, 0.71764706, 0.05490196, 0.        ,\n",
       "        0.        , 0.36078431, 0.98823529, 0.98823529, 0.88235294,\n",
       "        0.08235294, 0.        , 0.        , 0.        , 0.        ,\n",
       "        0.        , 0.        , 0.        ],\n",
       "       [0.        , 0.        , 0.        , 0.        , 0.        ,\n",
       "        0.        , 0.        , 0.        , 0.51764706, 0.99215686,\n",
       "        0.98823529, 0.57254902, 0.05490196, 0.        , 0.        ,\n",
       "        0.        , 0.84313725, 0.98823529, 0.98823529, 0.30980392,\n",
       "        0.        , 0.        , 0.        , 0.        , 0.        ,\n",
       "        0.        , 0.        , 0.        ],\n",
       "       [0.        , 0.        , 0.        , 0.        , 0.        ,\n",
       "        0.        , 0.        , 0.49411765, 0.99215686, 0.96862745,\n",
       "        0.69019608, 0.03529412, 0.        , 0.        , 0.03137255,\n",
       "        0.30588235, 0.96078431, 0.99215686, 0.50588235, 0.        ,\n",
       "        0.        , 0.        , 0.        , 0.        , 0.        ,\n",
       "        0.        , 0.        , 0.        ],\n",
       "       [0.        , 0.        , 0.        , 0.        , 0.        ,\n",
       "        0.        , 0.0627451 , 0.90980392, 0.98823529, 0.69019608,\n",
       "        0.        , 0.        , 0.        , 0.14117647, 0.78823529,\n",
       "        0.98823529, 0.98823529, 0.6627451 , 0.04313725, 0.        ,\n",
       "        0.        , 0.        , 0.        , 0.        , 0.        ,\n",
       "        0.        , 0.        , 0.        ],\n",
       "       [0.        , 0.        , 0.        , 0.        , 0.        ,\n",
       "        0.        , 0.08627451, 0.98823529, 0.98823529, 0.11764706,\n",
       "        0.08627451, 0.46666667, 0.77254902, 0.94509804, 0.99215686,\n",
       "        0.98823529, 0.98431373, 0.30196078, 0.        , 0.        ,\n",
       "        0.        , 0.        , 0.        , 0.        , 0.        ,\n",
       "        0.        , 0.        , 0.        ],\n",
       "       [0.        , 0.        , 0.        , 0.        , 0.        ,\n",
       "        0.        , 0.0627451 , 0.90588235, 0.98823529, 0.99215686,\n",
       "        0.98823529, 0.98823529, 0.98823529, 0.88627451, 0.89019608,\n",
       "        0.98823529, 0.90588235, 0.        , 0.        , 0.        ,\n",
       "        0.        , 0.        , 0.        , 0.        , 0.        ,\n",
       "        0.        , 0.        , 0.        ],\n",
       "       [0.        , 0.        , 0.        , 0.        , 0.        ,\n",
       "        0.        , 0.        , 0.21568627, 0.92156863, 0.99215686,\n",
       "        0.85098039, 0.54117647, 0.16470588, 0.09411765, 0.75294118,\n",
       "        0.98823529, 0.56078431, 0.        , 0.        , 0.        ,\n",
       "        0.        , 0.        , 0.        , 0.        , 0.        ,\n",
       "        0.        , 0.        , 0.        ],\n",
       "       [0.        , 0.        , 0.        , 0.        , 0.        ,\n",
       "        0.        , 0.        , 0.        , 0.        , 0.        ,\n",
       "        0.        , 0.        , 0.        , 0.24313725, 1.        ,\n",
       "        0.99215686, 0.42745098, 0.        , 0.        , 0.        ,\n",
       "        0.        , 0.        , 0.        , 0.        , 0.        ,\n",
       "        0.        , 0.        , 0.        ],\n",
       "       [0.        , 0.        , 0.        , 0.        , 0.        ,\n",
       "        0.        , 0.        , 0.        , 0.        , 0.        ,\n",
       "        0.        , 0.        , 0.        , 0.27843137, 0.99215686,\n",
       "        0.98823529, 0.08235294, 0.        , 0.        , 0.        ,\n",
       "        0.        , 0.        , 0.        , 0.        , 0.        ,\n",
       "        0.        , 0.        , 0.        ],\n",
       "       [0.        , 0.        , 0.        , 0.        , 0.        ,\n",
       "        0.        , 0.        , 0.        , 0.        , 0.        ,\n",
       "        0.        , 0.        , 0.        , 0.        , 0.99215686,\n",
       "        0.98823529, 0.08235294, 0.        , 0.        , 0.        ,\n",
       "        0.        , 0.        , 0.        , 0.        , 0.        ,\n",
       "        0.        , 0.        , 0.        ],\n",
       "       [0.        , 0.        , 0.        , 0.        , 0.        ,\n",
       "        0.        , 0.        , 0.        , 0.        , 0.        ,\n",
       "        0.        , 0.        , 0.        , 0.27843137, 0.99215686,\n",
       "        0.98823529, 0.08235294, 0.        , 0.        , 0.        ,\n",
       "        0.        , 0.        , 0.        , 0.        , 0.        ,\n",
       "        0.        , 0.        , 0.        ],\n",
       "       [0.        , 0.        , 0.        , 0.        , 0.        ,\n",
       "        0.        , 0.        , 0.        , 0.        , 0.        ,\n",
       "        0.        , 0.        , 0.        , 0.41568627, 0.99215686,\n",
       "        0.98823529, 0.08235294, 0.        , 0.        , 0.        ,\n",
       "        0.        , 0.        , 0.        , 0.        , 0.        ,\n",
       "        0.        , 0.        , 0.        ],\n",
       "       [0.        , 0.        , 0.        , 0.        , 0.        ,\n",
       "        0.        , 0.        , 0.        , 0.        , 0.        ,\n",
       "        0.        , 0.        , 0.        , 0.17647059, 1.        ,\n",
       "        0.99215686, 0.08235294, 0.        , 0.        , 0.        ,\n",
       "        0.        , 0.        , 0.        , 0.        , 0.        ,\n",
       "        0.        , 0.        , 0.        ],\n",
       "       [0.        , 0.        , 0.        , 0.        , 0.        ,\n",
       "        0.        , 0.        , 0.        , 0.        , 0.        ,\n",
       "        0.        , 0.        , 0.        , 0.        , 0.85490196,\n",
       "        0.98823529, 0.21960784, 0.        , 0.        , 0.        ,\n",
       "        0.        , 0.        , 0.        , 0.        , 0.        ,\n",
       "        0.        , 0.        , 0.        ],\n",
       "       [0.        , 0.        , 0.        , 0.        , 0.        ,\n",
       "        0.        , 0.        , 0.        , 0.        , 0.        ,\n",
       "        0.        , 0.        , 0.        , 0.        , 0.37647059,\n",
       "        0.98823529, 0.74117647, 0.16470588, 0.        , 0.        ,\n",
       "        0.        , 0.        , 0.        , 0.        , 0.        ,\n",
       "        0.        , 0.        , 0.        ],\n",
       "       [0.        , 0.        , 0.        , 0.        , 0.        ,\n",
       "        0.        , 0.        , 0.        , 0.        , 0.        ,\n",
       "        0.        , 0.        , 0.        , 0.        , 0.05490196,\n",
       "        0.72156863, 0.98823529, 0.66666667, 0.04313725, 0.        ,\n",
       "        0.        , 0.        , 0.        , 0.        , 0.        ,\n",
       "        0.        , 0.        , 0.        ],\n",
       "       [0.        , 0.        , 0.        , 0.        , 0.        ,\n",
       "        0.        , 0.        , 0.        , 0.        , 0.        ,\n",
       "        0.        , 0.        , 0.        , 0.        , 0.        ,\n",
       "        0.05490196, 0.57647059, 0.98823529, 0.16470588, 0.        ,\n",
       "        0.        , 0.        , 0.        , 0.        , 0.        ,\n",
       "        0.        , 0.        , 0.        ],\n",
       "       [0.        , 0.        , 0.        , 0.        , 0.        ,\n",
       "        0.        , 0.        , 0.        , 0.        , 0.        ,\n",
       "        0.        , 0.        , 0.        , 0.        , 0.        ,\n",
       "        0.        , 0.        , 0.        , 0.        , 0.        ,\n",
       "        0.        , 0.        , 0.        , 0.        , 0.        ,\n",
       "        0.        , 0.        , 0.        ]])"
      ]
     },
     "execution_count": 8,
     "metadata": {},
     "output_type": "execute_result"
    }
   ],
   "source": [
    "X_train[4]"
   ]
  },
  {
   "cell_type": "code",
   "execution_count": 9,
   "id": "2a6808a0",
   "metadata": {},
   "outputs": [],
   "source": [
    "# Neural network model\n",
    "\n",
    "from keras.models import Sequential\n",
    "from keras.layers import Flatten, Dense\n",
    "\n",
    "# Create a Sequential model\n",
    "model = Sequential()\n",
    "\n",
    "# Flatten layer to convert input images to 1D array\n",
    "model.add(Flatten(input_shape=(28,28)))\n",
    "\n",
    "# Dense layer with 128 neurons and ReLU activation\n",
    "model.add(Dense(128, activation='relu'))\n",
    "\n",
    "# Dense layer with 32 neurons and ReLU activation\n",
    "model.add(Dense(32, activation='relu'))\n",
    "\n",
    "# Output layer with 10 neurons for 10 classes using softmax activation\n",
    "model.add(Dense(10, activation='softmax'))\n"
   ]
  },
  {
   "cell_type": "code",
   "execution_count": 10,
   "id": "9fc9749c",
   "metadata": {},
   "outputs": [
    {
     "name": "stdout",
     "output_type": "stream",
     "text": [
      "Model: \"sequential\"\n",
      "_________________________________________________________________\n",
      " Layer (type)                Output Shape              Param #   \n",
      "=================================================================\n",
      " flatten (Flatten)           (None, 784)               0         \n",
      "                                                                 \n",
      " dense (Dense)               (None, 128)               100480    \n",
      "                                                                 \n",
      " dense_1 (Dense)             (None, 32)                4128      \n",
      "                                                                 \n",
      " dense_2 (Dense)             (None, 10)                330       \n",
      "                                                                 \n",
      "=================================================================\n",
      "Total params: 104938 (409.91 KB)\n",
      "Trainable params: 104938 (409.91 KB)\n",
      "Non-trainable params: 0 (0.00 Byte)\n",
      "_________________________________________________________________\n"
     ]
    }
   ],
   "source": [
    "# summary of the neural network model\n",
    "model.summary()"
   ]
  },
  {
   "cell_type": "code",
   "execution_count": 11,
   "id": "fef116c5",
   "metadata": {},
   "outputs": [],
   "source": [
    "# configureing the model for training\n",
    "model.compile(loss='sparse_categorical_crossentropy', optimizer='Adam', metrics=['accuracy'])"
   ]
  },
  {
   "cell_type": "code",
   "execution_count": 13,
   "id": "49216d2e",
   "metadata": {},
   "outputs": [
    {
     "name": "stdout",
     "output_type": "stream",
     "text": [
      "Epoch 1/25\n",
      "1500/1500 [==============================] - 12s 7ms/step - loss: 0.2840 - accuracy: 0.9160 - val_loss: 0.1396 - val_accuracy: 0.9598\n",
      "Epoch 2/25\n",
      "1500/1500 [==============================] - 9s 6ms/step - loss: 0.1205 - accuracy: 0.9642 - val_loss: 0.1213 - val_accuracy: 0.9624\n",
      "Epoch 3/25\n",
      "1500/1500 [==============================] - 9s 6ms/step - loss: 0.0829 - accuracy: 0.9746 - val_loss: 0.1179 - val_accuracy: 0.9640\n",
      "Epoch 4/25\n",
      "1500/1500 [==============================] - 9s 6ms/step - loss: 0.0631 - accuracy: 0.9803 - val_loss: 0.0917 - val_accuracy: 0.9731\n",
      "Epoch 5/25\n",
      "1500/1500 [==============================] - 10s 7ms/step - loss: 0.0487 - accuracy: 0.9848 - val_loss: 0.0988 - val_accuracy: 0.9741\n",
      "Epoch 6/25\n",
      "1500/1500 [==============================] - 12s 8ms/step - loss: 0.0388 - accuracy: 0.9875 - val_loss: 0.1015 - val_accuracy: 0.9721\n",
      "Epoch 7/25\n",
      "1500/1500 [==============================] - 11s 7ms/step - loss: 0.0308 - accuracy: 0.9903 - val_loss: 0.1026 - val_accuracy: 0.9730\n",
      "Epoch 8/25\n",
      "1500/1500 [==============================] - 12s 8ms/step - loss: 0.0273 - accuracy: 0.9908 - val_loss: 0.1065 - val_accuracy: 0.9750\n",
      "Epoch 9/25\n",
      "1500/1500 [==============================] - 9s 6ms/step - loss: 0.0224 - accuracy: 0.9929 - val_loss: 0.1141 - val_accuracy: 0.9735\n",
      "Epoch 10/25\n",
      "1500/1500 [==============================] - 13s 9ms/step - loss: 0.0188 - accuracy: 0.9939 - val_loss: 0.1345 - val_accuracy: 0.9668\n",
      "Epoch 11/25\n",
      "1500/1500 [==============================] - 9s 6ms/step - loss: 0.0169 - accuracy: 0.9945 - val_loss: 0.1118 - val_accuracy: 0.9757\n",
      "Epoch 12/25\n",
      "1500/1500 [==============================] - 10s 6ms/step - loss: 0.0142 - accuracy: 0.9953 - val_loss: 0.1104 - val_accuracy: 0.9761\n",
      "Epoch 13/25\n",
      "1500/1500 [==============================] - 11s 7ms/step - loss: 0.0139 - accuracy: 0.9956 - val_loss: 0.1091 - val_accuracy: 0.9765\n",
      "Epoch 14/25\n",
      "1500/1500 [==============================] - 11s 7ms/step - loss: 0.0115 - accuracy: 0.9962 - val_loss: 0.1218 - val_accuracy: 0.9747\n",
      "Epoch 15/25\n",
      "1500/1500 [==============================] - 13s 9ms/step - loss: 0.0115 - accuracy: 0.9960 - val_loss: 0.1309 - val_accuracy: 0.9743\n",
      "Epoch 16/25\n",
      "1500/1500 [==============================] - 11s 7ms/step - loss: 0.0118 - accuracy: 0.9961 - val_loss: 0.1306 - val_accuracy: 0.9768\n",
      "Epoch 17/25\n",
      "1500/1500 [==============================] - 12s 8ms/step - loss: 0.0105 - accuracy: 0.9964 - val_loss: 0.1397 - val_accuracy: 0.9735\n",
      "Epoch 18/25\n",
      "1500/1500 [==============================] - 14s 9ms/step - loss: 0.0095 - accuracy: 0.9967 - val_loss: 0.1458 - val_accuracy: 0.9737\n",
      "Epoch 19/25\n",
      "1500/1500 [==============================] - 13s 9ms/step - loss: 0.0101 - accuracy: 0.9967 - val_loss: 0.1270 - val_accuracy: 0.9782\n",
      "Epoch 20/25\n",
      "1500/1500 [==============================] - 13s 9ms/step - loss: 0.0089 - accuracy: 0.9970 - val_loss: 0.1433 - val_accuracy: 0.9771\n",
      "Epoch 21/25\n",
      "1500/1500 [==============================] - 15s 10ms/step - loss: 0.0111 - accuracy: 0.9965 - val_loss: 0.1696 - val_accuracy: 0.9736\n",
      "Epoch 22/25\n",
      "1500/1500 [==============================] - 10s 7ms/step - loss: 0.0090 - accuracy: 0.9971 - val_loss: 0.2022 - val_accuracy: 0.9657\n",
      "Epoch 23/25\n",
      "1500/1500 [==============================] - 11s 7ms/step - loss: 0.0093 - accuracy: 0.9971 - val_loss: 0.1616 - val_accuracy: 0.9756\n",
      "Epoch 24/25\n",
      "1500/1500 [==============================] - 13s 9ms/step - loss: 0.0067 - accuracy: 0.9978 - val_loss: 0.1448 - val_accuracy: 0.9765\n",
      "Epoch 25/25\n",
      "1500/1500 [==============================] - 13s 9ms/step - loss: 0.0074 - accuracy: 0.9978 - val_loss: 0.1581 - val_accuracy: 0.9731\n"
     ]
    }
   ],
   "source": [
    "history = model.fit(X_train, y_train, epochs=25, validation_split=0.2)"
   ]
  },
  {
   "cell_type": "code",
   "execution_count": 14,
   "id": "7abc9265",
   "metadata": {},
   "outputs": [
    {
     "name": "stdout",
     "output_type": "stream",
     "text": [
      "313/313 [==============================] - 1s 3ms/step\n"
     ]
    }
   ],
   "source": [
    "# Predictions\n",
    "y_probability = model.predict(X_test)"
   ]
  },
  {
   "cell_type": "code",
   "execution_count": 16,
   "id": "5f533d14",
   "metadata": {},
   "outputs": [],
   "source": [
    "# Getting the indices of the highest probability in each row\n",
    "import numpy as np\n",
    "y_predicited = np.argmax(y_probability, axis=1)"
   ]
  },
  {
   "cell_type": "code",
   "execution_count": 17,
   "id": "de7d011f",
   "metadata": {},
   "outputs": [
    {
     "name": "stdout",
     "output_type": "stream",
     "text": [
      "Accuracy: 0.9748\n"
     ]
    }
   ],
   "source": [
    "# Accuracy score of the model's predictions on the test set\n",
    "\n",
    "from sklearn.metrics import accuracy_score\n",
    "\n",
    "accuracy = accuracy_score(y_test, y_predicited)\n",
    "print(\"Accuracy:\", accuracy)\n"
   ]
  },
  {
   "cell_type": "code",
   "execution_count": 22,
   "id": "4f09614b",
   "metadata": {},
   "outputs": [
    {
     "data": {
      "image/png": "[encoded data removed]",
      "text/plain": [
       "<Figure size 640x480 with 1 Axes>"
      ]
     },
     "metadata": {},
     "output_type": "display_data"
    }
   ],
   "source": [
    "# Plot training and validation loss\n",
    "plt.plot(history.history['loss'], label='Training Loss')\n",
    "plt.plot(history.history['val_loss'], label='Validation Loss')\n",
    "plt.title('Training and Validation Loss')\n",
    "plt.xlabel('Epoch')\n",
    "plt.ylabel('Loss')\n",
    "plt.legend()\n",
    "plt.show()"
   ]
  },
  {
   "cell_type": "code",
   "execution_count": 23,
   "id": "1dc93253",
   "metadata": {},
   "outputs": [
    {
     "data": {
      "image/png": "[encoded data removed]",
      "text/plain": [
       "<Figure size 640x480 with 1 Axes>"
      ]
     },
     "metadata": {},
     "output_type": "display_data"
    }
   ],
   "source": [
    "# Plot training and validation accuracy\n",
    "plt.plot(history.history['accuracy'], label='Training Accuracy')\n",
    "plt.plot(history.history['val_accuracy'], label='Validation Accuracy')\n",
    "plt.title('Training and Validation Accuracy')\n",
    "plt.xlabel('Epoch')\n",
    "plt.ylabel('Accuracy')\n",
    "plt.legend()\n",
    "plt.show()\n"
   ]
  },
  {
   "cell_type": "code",
   "execution_count": 33,
   "id": "0fe36f6b",
   "metadata": {},
   "outputs": [
    {
     "data": {
      "text/plain": [
       "<matplotlib.image.AxesImage at 0x2c46452dc90>"
      ]
     },
     "execution_count": 33,
     "metadata": {},
     "output_type": "execute_result"
    },
    {
     "data": {
      "image/png": "[encoded data removed]",
      "text/plain": [
       "<Figure size 640x480 with 1 Axes>"
      ]
     },
     "metadata": {},
     "output_type": "display_data"
    }
   ],
   "source": [
    "# displaying an image from the test set\n",
    "plt.imshow(X_test[7])"
   ]
  },
  {
   "cell_type": "code",
   "execution_count": 34,
   "id": "baa33bf5",
   "metadata": {},
   "outputs": [
    {
     "name": "stdout",
     "output_type": "stream",
     "text": [
      "1/1 [==============================] - 0s 46ms/step\n",
      "Predicted class index: [9]\n"
     ]
    }
   ],
   "source": [
    "# Reshaping the image to match the input shape expected by the model\n",
    "image = X_test[7].reshape(1, 28, 28)\n",
    "\n",
    "# Making predictions on the image\n",
    "predictions = model.predict(image)\n",
    "\n",
    "# Getting the index of the class with the highest probability\n",
    "predicted_class_index = predictions.argmax(axis=1)\n",
    "\n",
    "print(\"Predicted class index:\", predicted_class_index)\n"
   ]
  },
  {
   "cell_type": "markdown",
   "id": "0f354cae",
   "metadata": {},
   "source": [
    "This means that, based on the features extracted from the input image, the model believes that the handwritten digit in the image is most likely to be the digit 9. Which meansthe model predicts the digit in the image at index 7 of the test set to be 9."
   ]
  },
  {
   "cell_type": "code",
   "execution_count": 35,
   "id": "74972dff",
   "metadata": {},
   "outputs": [
    {
     "data": {
      "text/plain": [
       "<matplotlib.image.AxesImage at 0x2c464572ec0>"
      ]
     },
     "execution_count": 35,
     "metadata": {},
     "output_type": "execute_result"
    },
    {
     "data": {
      "image/png": "[encoded data removed]",
      "text/plain": [
       "<Figure size 640x480 with 1 Axes>"
      ]
     },
     "metadata": {},
     "output_type": "display_data"
    }
   ],
   "source": [
    "# displaying an image from the training set\n",
    "plt.imshow(X_train[7])"
   ]
  },
  {
   "cell_type": "code",
   "execution_count": 36,
   "id": "47ec79c8",
   "metadata": {},
   "outputs": [
    {
     "name": "stdout",
     "output_type": "stream",
     "text": [
      "1/1 [==============================] - 0s 51ms/step\n",
      "Predicted class index: [3]\n"
     ]
    }
   ],
   "source": [
    "# Reshaping the image to match the input shape expected by the model\n",
    "image = X_train[7].reshape(1, 28, 28)\n",
    "\n",
    "# Making predictions on the image\n",
    "predictions = model.predict(image)\n",
    "\n",
    "# Getting the index of the class with the highest probability\n",
    "predicted_class_index = predictions.argmax(axis=1)\n",
    "\n",
    "print(\"Predicted class index:\", predicted_class_index)\n"
   ]
  },
  {
   "cell_type": "markdown",
   "id": "c8bb9af9",
   "metadata": {},
   "source": [
    "The model predicts the digit in the image at index 7 of the train set to be 3."
   ]
  },
  {
   "cell_type": "code",
   "execution_count": 42,
   "id": "4f06ad16",
   "metadata": {},
   "outputs": [],
   "source": [
    "import pytesseract\n",
    "pytesseract.pytesseract.tesseract_cmd = r'C:\\Program Files\\Tesseract-OCR\\tesseract.exe'\n"
   ]
  },
  {
   "cell_type": "code",
   "execution_count": 45,
   "id": "83108f69",
   "metadata": {},
   "outputs": [
    {
     "name": "stdout",
     "output_type": "stream",
     "text": [
      "Recognized Text: A-teachers purpose\n",
      "should not _betorcreate\n",
      "{students in\n",
      "\n"
     ]
    }
   ],
   "source": [
    "import cv2\n",
    "import pytesseract\n",
    "\n",
    "# Load the handwritten image\n",
    "image = cv2.imread('hqdefault.jpg')\n",
    "\n",
    "# Use pytesseract to perform OCR with language set to English\n",
    "recognized_text = pytesseract.image_to_string(image, lang='eng', config='--psm 6')\n",
    "\n",
    "# Print the recognized text\n",
    "print(\"Recognized Text:\", recognized_text)\n"
   ]
  },
  {
   "cell_type": "markdown",
   "id": "fadee3ff",
   "metadata": {},
   "source": [
    "Optical character recognition (OCR) on the image using the pytesseract library, and prints the recognized text extracted from the image."
   ]
  }
 ],
 "metadata": {
  "kernelspec": {
   "display_name": "Python 3 (ipykernel)",
   "language": "python",
   "name": "python3"
  },
  "language_info": {
   "codemirror_mode": {
    "name": "ipython",
    "version": 3
   },
   "file_extension": ".py",
   "mimetype": "text/x-python",
   "name": "python",
   "nbconvert_exporter": "python",
   "pygments_lexer": "ipython3",
   "version": "3.10.9"
  }
 },
 "nbformat": 4,
 "nbformat_minor": 5
}
